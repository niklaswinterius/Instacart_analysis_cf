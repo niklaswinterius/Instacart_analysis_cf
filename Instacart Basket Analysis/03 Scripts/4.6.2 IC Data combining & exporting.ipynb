{
 "cells": [
  {
   "cell_type": "markdown",
   "metadata": {},
   "source": [
    "## 4.6.2 Merging and exporting data"
   ]
  },
  {
   "cell_type": "code",
   "execution_count": 7,
   "metadata": {},
   "outputs": [],
   "source": [
    "# import libraries\n",
    "import pandas as pd\n",
    "import numpy as np\n",
    "import os"
   ]
  },
  {
   "cell_type": "code",
   "execution_count": 8,
   "metadata": {},
   "outputs": [],
   "source": [
    "path = r'C:\\Users\\Niklas Winter\\Instacart Basket Analysis'"
   ]
  },
  {
   "cell_type": "code",
   "execution_count": 9,
   "metadata": {},
   "outputs": [],
   "source": [
    "# Upload data set products\n",
    "df_prods = pd.read_csv(os.path.join(path, '02 Data', 'Prepared Data', 'products_checked.csv'), index_col = False)"
   ]
  },
  {
   "cell_type": "code",
   "execution_count": 10,
   "metadata": {},
   "outputs": [],
   "source": [
    "# Upload data set order_products_prior\n",
    "df_ords_combined = pd.read_pickle(os.path.join(path, '02 Data', 'Prepared Data', 'orders_products_combined.pkl'))\n"
   ]
  },
  {
   "cell_type": "markdown",
   "metadata": {},
   "source": [
    "#### 1. Merge data from 'orders_products_combined.pkl' and 'products_cleaned.csv' datasets"
   ]
  },
  {
   "cell_type": "code",
   "execution_count": 11,
   "metadata": {},
   "outputs": [
    {
     "name": "stdout",
     "output_type": "stream",
     "text": [
      "Number of rows and columns of df_prods:\n",
      " (49672, 6)\n",
      "\n",
      "Number of rows and columns of df_ords_combined:\n",
      " (32434489, 11)\n"
     ]
    }
   ],
   "source": [
    "# check the dimensions of both dataframes\n",
    "print('Number of rows and columns of df_prods:\\n', df_prods.shape)\n",
    "print('\\nNumber of rows and columns of df_ords_combined:\\n', df_ords_combined.shape)"
   ]
  },
  {
   "cell_type": "code",
   "execution_count": 12,
   "metadata": {},
   "outputs": [
    {
     "name": "stdout",
     "output_type": "stream",
     "text": [
      "Output of df_prods:\n",
      "    Unnamed: 0  product_id                                       product_name  \\\n",
      "0           0           1                         Chocolate Sandwich Cookies   \n",
      "1           1           2                                   All-Seasons Salt   \n",
      "2           2           3               Robust Golden Unsweetened Oolong Tea   \n",
      "3           3           4  Smart Ones Classic Favorites Mini Rigatoni Wit...   \n",
      "4           4           5                          Green Chile Anytime Sauce   \n",
      "\n",
      "   aisle_id  department_id  prices  \n",
      "0        61             19     5.8  \n",
      "1       104             13     9.3  \n",
      "2        94              7     4.5  \n",
      "3        38              1    10.5  \n",
      "4         5             13     4.3  \n",
      "\n",
      "Output of df_ords_combined:\n",
      "    Unnamed: 0  order_id  user_id  order_number  order_day_of_week  \\\n",
      "0           0   2539329        1             1                  2   \n",
      "1           0   2539329        1             1                  2   \n",
      "2           0   2539329        1             1                  2   \n",
      "3           0   2539329        1             1                  2   \n",
      "4           0   2539329        1             1                  2   \n",
      "\n",
      "   order_hour_of_day  days_since_prior_order  product_id  add_to_cart_order  \\\n",
      "0                  8                11.11484         196                  1   \n",
      "1                  8                11.11484       14084                  2   \n",
      "2                  8                11.11484       12427                  3   \n",
      "3                  8                11.11484       26088                  4   \n",
      "4                  8                11.11484       26405                  5   \n",
      "\n",
      "   reordered _merge  \n",
      "0          0   both  \n",
      "1          0   both  \n",
      "2          0   both  \n",
      "3          0   both  \n",
      "4          0   both  \n"
     ]
    }
   ],
   "source": [
    "# check the output of both dataframes\n",
    "print('Output of df_prods:\\n', df_prods.head(5))\n",
    "print('\\nOutput of df_ords_combined:\\n', df_ords_combined.head(5))"
   ]
  },
  {
   "cell_type": "code",
   "execution_count": 13,
   "metadata": {},
   "outputs": [],
   "source": [
    "# Merge df_prods and df_ords_combined using product_id as a key and an indicator flag\n",
    "df_merged = df_prods.merge(df_ords_combined, on = 'product_id', how = 'inner', indicator = 'exists')"
   ]
  },
  {
   "cell_type": "code",
   "execution_count": 14,
   "metadata": {
    "scrolled": false
   },
   "outputs": [
    {
     "name": "stdout",
     "output_type": "stream",
     "text": [
      "Number of rows and columns of df_merged:\n",
      " (32404859, 17)\n",
      "\n",
      "Output of df_merged:\n",
      "    Unnamed: 0_x  product_id                product_name  aisle_id  \\\n",
      "0             0           1  Chocolate Sandwich Cookies        61   \n",
      "1             0           1  Chocolate Sandwich Cookies        61   \n",
      "2             0           1  Chocolate Sandwich Cookies        61   \n",
      "3             0           1  Chocolate Sandwich Cookies        61   \n",
      "4             0           1  Chocolate Sandwich Cookies        61   \n",
      "\n",
      "   department_id  prices  Unnamed: 0_y  order_id  user_id  order_number  \\\n",
      "0             19     5.8          1987   3139998      138            28   \n",
      "1             19     5.8          1989   1977647      138            30   \n",
      "2             19     5.8         11433    389851      709             2   \n",
      "3             19     5.8         12198    652770      764             1   \n",
      "4             19     5.8         12200   1813452      764             3   \n",
      "\n",
      "   order_day_of_week  order_hour_of_day  days_since_prior_order  \\\n",
      "0                  6                 11                 3.00000   \n",
      "1                  6                 17                20.00000   \n",
      "2                  0                 21                 6.00000   \n",
      "3                  3                 13                11.11484   \n",
      "4                  4                 17                 9.00000   \n",
      "\n",
      "   add_to_cart_order  reordered _merge exists  \n",
      "0                  5          0   both   both  \n",
      "1                  1          1   both   both  \n",
      "2                 20          0   both   both  \n",
      "3                 10          0   both   both  \n",
      "4                 11          1   both   both  \n"
     ]
    }
   ],
   "source": [
    "# check the dimensions and output of the merged dataframe\n",
    "print('Number of rows and columns of df_merged:\\n', df_merged.shape)\n",
    "print('\\nOutput of df_merged:\\n', df_merged.head(5))"
   ]
  },
  {
   "cell_type": "code",
   "execution_count": 15,
   "metadata": {},
   "outputs": [
    {
     "name": "stdout",
     "output_type": "stream",
     "text": [
      "Check the values in the exists column:\n",
      " both          32404859\n",
      "left_only            0\n",
      "right_only           0\n",
      "Name: exists, dtype: int64\n"
     ]
    }
   ],
   "source": [
    "# check the values in the 'exists' column\n",
    "print('Check the values in the exists column:\\n', df_merged['exists'].value_counts())"
   ]
  },
  {
   "cell_type": "code",
   "execution_count": 16,
   "metadata": {},
   "outputs": [
    {
     "name": "stdout",
     "output_type": "stream",
     "text": [
      "Output of df_merged:\n",
      "    Unnamed: 0_x  product_id                product_name  aisle_id  \\\n",
      "0             0           1  Chocolate Sandwich Cookies        61   \n",
      "1             0           1  Chocolate Sandwich Cookies        61   \n",
      "2             0           1  Chocolate Sandwich Cookies        61   \n",
      "3             0           1  Chocolate Sandwich Cookies        61   \n",
      "4             0           1  Chocolate Sandwich Cookies        61   \n",
      "\n",
      "   department_id  prices  Unnamed: 0_y  order_id  user_id  order_number  \\\n",
      "0             19     5.8          1987   3139998      138            28   \n",
      "1             19     5.8          1989   1977647      138            30   \n",
      "2             19     5.8         11433    389851      709             2   \n",
      "3             19     5.8         12198    652770      764             1   \n",
      "4             19     5.8         12200   1813452      764             3   \n",
      "\n",
      "   order_day_of_week  order_hour_of_day  days_since_prior_order  \\\n",
      "0                  6                 11                 3.00000   \n",
      "1                  6                 17                20.00000   \n",
      "2                  0                 21                 6.00000   \n",
      "3                  3                 13                11.11484   \n",
      "4                  4                 17                 9.00000   \n",
      "\n",
      "   add_to_cart_order  reordered  \n",
      "0                  5          0  \n",
      "1                  1          1  \n",
      "2                 20          0  \n",
      "3                 10          0  \n",
      "4                 11          1  \n"
     ]
    }
   ],
   "source": [
    "# clean up the merged dataframe by deleting the '_merge' and 'exist' columns\n",
    "df_merged = df_merged.drop(columns = ['_merge', 'exists'])\n",
    "print('Output of df_merged:\\n', df_merged.head(5))"
   ]
  },
  {
   "cell_type": "markdown",
   "metadata": {},
   "source": [
    "#### 2. Export merged data in .pkl format"
   ]
  },
  {
   "cell_type": "code",
   "execution_count": 18,
   "metadata": {},
   "outputs": [],
   "source": [
    "# export df_merged in .pkl format\n",
    "df_merged.to_pickle(os.path.join(path, '02 Data','Prepared Data', 'ords_prods_merged.pkl'))"
   ]
  },
  {
   "cell_type": "code",
   "execution_count": null,
   "metadata": {},
   "outputs": [],
   "source": []
  }
 ],
 "metadata": {
  "kernelspec": {
   "display_name": "Python 3 (ipykernel)",
   "language": "python",
   "name": "python3"
  },
  "language_info": {
   "codemirror_mode": {
    "name": "ipython",
    "version": 3
   },
   "file_extension": ".py",
   "mimetype": "text/x-python",
   "name": "python",
   "nbconvert_exporter": "python",
   "pygments_lexer": "ipython3",
   "version": "3.9.13"
  },
  "vscode": {
   "interpreter": {
    "hash": "5238573367df39f7286bb46f9ff5f08f63a01a80960060ce41e3c79b190280fa"
   }
  }
 },
 "nbformat": 4,
 "nbformat_minor": 2
}
